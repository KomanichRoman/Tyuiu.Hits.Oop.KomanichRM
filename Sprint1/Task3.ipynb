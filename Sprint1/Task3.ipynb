{
 "cells": [
  {
   "cell_type": "markdown",
   "metadata": {},
   "source": [
    "<h1 style=\"color:DodgerBlue\">Индивидальный проект</h1>"
   ]
  },
  {
   "cell_type": "markdown",
   "metadata": {},
   "source": [
    "<h2 style=\"color:DodgerBlue\">Название проекта:</h2>\n",
    "\n",
    "----\n",
    "\n",
    "### Вариант задания \n"
   ]
  },
  {
   "cell_type": "markdown",
   "metadata": {},
   "source": [
    "<h2 style=\"color:DodgerBlue\">Описание проекта:</h2>\n",
    "\n",
    "----\n",
    "\n",
    "[ваш текст]\n",
    "\n",
    "#### Дополнительное задание\n",
    "Добавьте к сущестующим классам конструктора классов с использованием гетторов и сетторов и реализуйте взаимодействие объектов между собой"
   ]
  },
  {
   "cell_type": "markdown",
   "metadata": {},
   "source": [
    "<h2 style=\"color:DodgerBlue\">Реализация:</h2>\n",
    "\n",
    "----"
   ]
  },
  {
   "cell_type": "code",
   "execution_count": 1,
   "metadata": {
    "dotnet_interactive": {
     "language": "csharp"
    },
    "polyglot_notebook": {
     "kernelName": "csharp"
    }
   },
   "outputs": [
    {
     "name": "stdout",
     "output_type": "stream",
     "text": [
      "Проектор добавлен в онлайн-заказ; Id заказа: 101; Время: 9/23/2024 4:20:34 PM\n",
      "Общая сумма онлайн-заказа: 15500\n",
      "Проектор добавлен в физический заказ. Адрес доставки: ул. Мельникайте 70, ауд. 1104; Id заказа: 102; Время: 9/23/2024 4:20:34 PM\n",
      "Проектор удален из физического заказа.\n",
      "Общая сумма физического заказа: 0\n"
     ]
    }
   ],
   "source": [
    "public abstract class Order \n",
    "{\n",
    "    public int OrderId { get; set; }\n",
    "    public DateTime CreationDate { get; set; }\n",
    "    public int TotalAmount { get; private set; }\n",
    "    protected List<Item> Items = new List<Item>();\n",
    "\n",
    "    public virtual int CalculateTotal() \n",
    "    {\n",
    "        return TotalAmount;\n",
    "    }\n",
    "\n",
    "    public virtual void AddItem(Item item) \n",
    "    {\n",
    "        Items.Add(item);\n",
    "        TotalAmount += item.Price;\n",
    "    }\n",
    "\n",
    "    public virtual void RemoveItem(Item item) \n",
    "    {\n",
    "        if (Items.Remove(item)) \n",
    "        {\n",
    "            TotalAmount -= item.Price;\n",
    "        }\n",
    "    }\n",
    "\n",
    "    // Конструктор\n",
    "    public Order(int orderId, DateTime creationDate)\n",
    "    {\n",
    "        OrderId = orderId;\n",
    "        CreationDate = creationDate;\n",
    "        TotalAmount = 0;\n",
    "    }\n",
    "}\n",
    "\n",
    "public class Item\n",
    "{\n",
    "    public int Id { get; set; }\n",
    "    public string Name { get; set; }\n",
    "    public int Price { get; set; }\n",
    "    public string Refund { get; set; }\n",
    "\n",
    "    // Конструктор\n",
    "    public Item(int id, string name, int price)\n",
    "    {\n",
    "        Id = id;\n",
    "        Name = name;\n",
    "        Price = price;\n",
    "        Refund = null;\n",
    "    }\n",
    "}\n",
    "\n",
    "public class OnlineOrder : Order\n",
    "{\n",
    "    public string CustomerEmail { get; set; }\n",
    "\n",
    "    public override void AddItem(Item item) \n",
    "    {\n",
    "        base.AddItem(item);  \n",
    "        Console.WriteLine(item.Name + \" добавлен в онлайн-заказ; \" + \"Id заказа: \" + OrderId + \"; Время: \" + CreationDate);\n",
    "    }\n",
    "\n",
    "    public override void RemoveItem(Item item) \n",
    "    {\n",
    "        base.RemoveItem(item);\n",
    "        Console.WriteLine(item.Name + \" удален из онлайн заказа.\");\n",
    "    }\n",
    "\n",
    "    // Конструктор\n",
    "    public OnlineOrder(int orderId, DateTime creationDate, string customerEmail) \n",
    "        : base(orderId, creationDate)\n",
    "    {\n",
    "        CustomerEmail = customerEmail;\n",
    "    }\n",
    "}\n",
    "\n",
    "public class PhysicalOrder : Order\n",
    "{\n",
    "    public string DeliveryAddress { get; set; }\n",
    "\n",
    "    public override void AddItem(Item item) \n",
    "    {\n",
    "        base.AddItem(item);\n",
    "        Console.WriteLine(item.Name + \" добавлен в физический заказ. Адрес доставки: \" + DeliveryAddress + \"; Id заказа: \" + OrderId + \"; Время: \" + CreationDate);\n",
    "    }\n",
    "\n",
    "    public override void RemoveItem(Item item) \n",
    "    {\n",
    "        base.RemoveItem(item);\n",
    "        item.Refund = \"Обработка возврата.\";\n",
    "        Console.WriteLine(item.Name + \" удален из физического заказа.\");\n",
    "    }\n",
    "\n",
    "    // Конструктор\n",
    "    public PhysicalOrder(int orderId, DateTime creationDate, string deliveryAddress) \n",
    "        : base(orderId, creationDate)\n",
    "    {\n",
    "        DeliveryAddress = deliveryAddress;\n",
    "    }\n",
    "}\n",
    "\n",
    "// Использование новых классов с конструкторами\n",
    "OnlineOrder onlineOrder = new OnlineOrder(101, DateTime.Now, \"gorotro_215@mail.ru\");\n",
    "PhysicalOrder physicalOrder = new PhysicalOrder(102, DateTime.Now, \"ул. Мельникайте 70, ауд. 1104\");\n",
    "\n",
    "var ExItem = new Item(1963, \"Проектор\", 15500);\n",
    "\n",
    "onlineOrder.AddItem(ExItem);\n",
    "Console.WriteLine(\"Общая сумма онлайн-заказа: \" + onlineOrder.CalculateTotal());\n",
    "\n",
    "physicalOrder.AddItem(ExItem);\n",
    "physicalOrder.RemoveItem(ExItem);\n",
    "Console.WriteLine(\"Общая сумма физического заказа: \" + physicalOrder.CalculateTotal());"
   ]
  }
 ],
 "metadata": {
  "kernelspec": {
   "display_name": ".NET (C#)",
   "language": "C#",
   "name": ".net-csharp"
  },
  "polyglot_notebook": {
   "kernelInfo": {
    "defaultKernelName": "csharp",
    "items": [
     {
      "aliases": [],
      "languageName": "csharp",
      "name": "csharp"
     }
    ]
   }
  }
 },
 "nbformat": 4,
 "nbformat_minor": 2
}
